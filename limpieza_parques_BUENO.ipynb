{
 "cells": [
  {
   "cell_type": "markdown",
   "metadata": {},
   "source": [
    "## Librerías"
   ]
  },
  {
   "cell_type": "code",
   "execution_count": null,
   "metadata": {},
   "outputs": [],
   "source": [
    "import pandas as pd\n",
    "from shapely import wkt\n",
    "from shapely.ops import transform\n",
    "import pyproj\n",
    "from functools import partial\n",
    "import folium"
   ]
  },
  {
   "cell_type": "markdown",
   "metadata": {},
   "source": [
    "# Limpieza parques y jardines"
   ]
  },
  {
   "cell_type": "markdown",
   "metadata": {},
   "source": [
    "## Filtrar por tamaño de \"parcela\""
   ]
  },
  {
   "cell_type": "markdown",
   "metadata": {},
   "source": [
    "###### No ejecutar mas"
   ]
  },
  {
   "cell_type": "code",
   "execution_count": null,
   "metadata": {},
   "outputs": [],
   "source": [
    "# Cargar el archivo CSV\n",
    "df = pd.read_csv('parques_y_jardines.csv')\n",
    "\n",
    "# Convertir las cadenas de la columna 'geometry' a objetos geométricos usando Shapely\n",
    "df['geometry'] = df['geometry'].apply(wkt.loads)\n",
    "\n",
    "# Proyectar las geometrías para calcular el área en metros cuadrados\n",
    "# Definir una función para cambiar la proyección a una que mida correctamente las áreas\n",
    "def project_geom(geom):\n",
    "    project = partial(\n",
    "        pyproj.transform,\n",
    "        pyproj.Proj(init='epsg:4326'),  # Coordenadas geográficas, WGS84\n",
    "        pyproj.Proj(init='epsg:3857'))  # Sistema métrico, utilizado para medir áreas\n",
    "    return transform(project, geom)\n",
    "\n",
    "# Aplicar la proyección y calcular el área\n",
    "df['area'] = df['geometry'].apply(lambda geom: project_geom(geom).area)\n",
    "\n",
    "# Filtrar las geometrías por área, excluyendo aquellas menores a 100 m²\n",
    "umbral_area = 100  # 100 metros cuadrados\n",
    "df_filtrado = df[df['area'] > umbral_area]\n",
    "\n",
    "# Guardar los resultados filtrados en un nuevo CSV\n",
    "df_filtrado.to_csv('parques_y_jardines.csv', index=False)\n",
    "\n",
    "# Retornar el número de filas del DataFrame filtrado para verificar\n",
    "df_filtrado.shape[0]"
   ]
  },
  {
   "cell_type": "markdown",
   "metadata": {},
   "source": [
    "### Mapear las parcelas"
   ]
  },
  {
   "cell_type": "markdown",
   "metadata": {},
   "source": [
    "###### No ejecutar mas"
   ]
  },
  {
   "cell_type": "code",
   "execution_count": null,
   "metadata": {},
   "outputs": [],
   "source": [
    "# Cargar el archivo CSV filtrado\n",
    "df_filtrado = pd.read_csv('parques_y_jardines.csv')\n",
    "\n",
    "# Convertir las cadenas de la columna 'geometry' a objetos geométricos usando Shapely\n",
    "df_filtrado['geometry'] = df_filtrado['geometry'].apply(wkt.loads)\n",
    "\n",
    "# Añadir una columna con etiquetas numéricas\n",
    "if 'etiqueta' not in df_filtrado.columns:\n",
    "    df_filtrado['etiqueta'] = range(1, len(df_filtrado) + 1)\n",
    "\n",
    "# Crear un mapa de Folium\n",
    "mapa = folium.Map(location=[42.3439, -3.6969], zoom_start=13)\n",
    "\n",
    "# Añadir cada parque o jardín al mapa con relleno\n",
    "for parque, row in df_filtrado.iterrows():\n",
    "    popup_text = f\"ID: {row['etiqueta']} - {row.get('name', 'Sin nombre')} - Área: {row['area']} m²\"\n",
    "    if row['geometry'].geom_type == 'Point':\n",
    "        folium.Marker(\n",
    "            location=[row['geometry'].y, row['geometry'].x],\n",
    "            popup=popup_text\n",
    "        ).add_to(mapa)\n",
    "        \n",
    "    elif row['geometry'].geom_type == 'Polygon':\n",
    "        folium.Polygon(\n",
    "            locations=[(point[1], point[0]) for point in row['geometry'].exterior.coords],\n",
    "            popup=popup_text,\n",
    "            color='#3186cc',  \n",
    "            fill=True,\n",
    "            fill_color='#3186cc', \n",
    "            fill_opacity=0.4  \n",
    "        ).add_to(mapa)\n",
    "\n",
    "# Guardar el mapa en un archivo HTML\n",
    "mapa.save('mapa_parques_y_jardines.html')\n",
    "\n",
    "# Guardar el DataFrame con la columna 'etiqueta' en un nuevo archivo CSV\n",
    "df_filtrado.to_csv('parques_y_jardines.csv', index=False)"
   ]
  },
  {
   "cell_type": "markdown",
   "metadata": {},
   "source": [
    "### Limpieza visual entre el mapa de folium y los datos del csv"
   ]
  },
  {
   "cell_type": "markdown",
   "metadata": {},
   "source": [
    "#### Repetir cuantas veces necesitemos"
   ]
  },
  {
   "cell_type": "code",
   "execution_count": null,
   "metadata": {},
   "outputs": [],
   "source": [
    "# Cargar el archivo CSV filtrado\n",
    "df_filtrado = pd.read_csv('parques_y_jardines.csv')"
   ]
  },
  {
   "cell_type": "code",
   "execution_count": null,
   "metadata": {},
   "outputs": [],
   "source": [
    "# Rangos a eliminar\n",
    "rangos_a_eliminar = [(115, 126), (578, 630), (633, 662), (664, 777), (781, 867), \n",
    "                    (869 , 903), (908, 980), \n",
    "                    ]\n",
    "# Números especificos a eliminar\n",
    "numeros_especificos = [2790, 2789, 2791 ]"
   ]
  },
  {
   "cell_type": "code",
   "execution_count": null,
   "metadata": {},
   "outputs": [],
   "source": [
    "# Convertir los rangos en una lista de números\n",
    "numeros_a_eliminar = []\n",
    "for rango in rangos_a_eliminar:\n",
    "    numeros_a_eliminar.extend(range(rango[0], rango[1] + 1))\n",
    "\n",
    "# Añadir los números específicos a la lista\n",
    "numeros_a_eliminar.extend(numeros_especificos)\n",
    "\n",
    "# Filtrar el DataFrame para excluir los números en la lista\n",
    "df_filtrado = df_filtrado[~df_filtrado['etiqueta'].isin(numeros_a_eliminar)]\n",
    "\n",
    "# Guardar los resultados en un nuevo archivo CSV\n",
    "df_filtrado.to_csv('parques_y_jardines_filtrado.csv', index=False)\n"
   ]
  },
  {
   "cell_type": "markdown",
   "metadata": {},
   "source": [
    "#### Mapear el resultado final"
   ]
  },
  {
   "cell_type": "code",
   "execution_count": null,
   "metadata": {},
   "outputs": [],
   "source": [
    "# Cargar el DataFrame actualizado\n",
    "df_filtrado_actualizado = pd.read_csv('parques_y_jardines_filtrado.csv')\n",
    "\n",
    "# Convertir las cadenas de la columna 'geometry' a objetos geométricos usando Shapely\n",
    "df_filtrado_actualizado['geometry'] = df_filtrado_actualizado['geometry'].apply(wkt.loads)\n",
    "\n",
    "# Crear un nuevo mapa de Folium\n",
    "mapa_actualizado = folium.Map(location=[42.3439, -3.6969], zoom_start=13)\n",
    "\n",
    "# Añadir cada parque o jardín del DataFrame actualizado al mapa\n",
    "for _, row in df_filtrado_actualizado.iterrows():\n",
    "    popup_text = f\"ID: {row['etiqueta']} - {row.get('name', 'Sin nombre')} - Área: {row['area']} m²\"\n",
    "    if row['geometry'].geom_type == 'Point':\n",
    "        folium.Marker(\n",
    "            location=[row['geometry'].y, row['geometry'].x],\n",
    "            popup=popup_text\n",
    "        ).add_to(mapa_actualizado)\n",
    "    elif row['geometry'].geom_type == 'Polygon':\n",
    "        folium.Polygon(\n",
    "            locations=[(point[1], point[0]) for point in row['geometry'].exterior.coords],\n",
    "            popup=popup_text,\n",
    "            color='#3186cc',\n",
    "            fill=True,\n",
    "            fill_color='#3186cc',\n",
    "            fill_opacity=0.7\n",
    "        ).add_to(mapa_actualizado)\n",
    "\n",
    "# Guardar el nuevo mapa en un archivo HTML\n",
    "mapa_actualizado.save('mapa_parques_y_jardines_actualizado.html')\n"
   ]
  },
  {
   "cell_type": "markdown",
   "metadata": {},
   "source": [
    "##### Repetimos limpieza"
   ]
  }
 ],
 "metadata": {
  "kernelspec": {
   "display_name": "Python 3",
   "language": "python",
   "name": "python3"
  },
  "language_info": {
   "codemirror_mode": {
    "name": "ipython",
    "version": 3
   },
   "file_extension": ".py",
   "mimetype": "text/x-python",
   "name": "python",
   "nbconvert_exporter": "python",
   "pygments_lexer": "ipython3",
   "version": "3.11.6"
  }
 },
 "nbformat": 4,
 "nbformat_minor": 2
}
